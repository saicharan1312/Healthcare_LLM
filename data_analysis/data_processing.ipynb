{
  "cells": [
    {
      "cell_type": "code",
      "execution_count": 51,
      "metadata": {
        "id": "1P4kUSpnlcH6"
      },
      "outputs": [],
      "source": [
        "import pandas as pd\n",
        "import nltk\n",
        "from nltk.corpus import stopwords\n",
        "from nltk.tokenize import word_tokenize\n",
        "\n",
        "import string\n",
        "from nltk.stem import WordNetLemmatizer\n",
        "from web_scrapping import web_scrape_wikipedia, web_scrape_seattle_children"
      ]
    },
    {
      "cell_type": "markdown",
      "metadata": {},
      "source": [
        "### Loading raw data"
      ]
    },
    {
      "cell_type": "code",
      "execution_count": 52,
      "metadata": {
        "id": "xHPSQqk7ltR4"
      },
      "outputs": [],
      "source": [
        "drug_data = pd.read_csv(\"../data/drug_data.csv\")"
      ]
    },
    {
      "cell_type": "code",
      "execution_count": 53,
      "metadata": {},
      "outputs": [
        {
          "data": {
            "text/plain": [
              "(53766, 6)"
            ]
          },
          "execution_count": 53,
          "metadata": {},
          "output_type": "execute_result"
        }
      ],
      "source": [
        "drug_data.shape"
      ]
    },
    {
      "cell_type": "markdown",
      "metadata": {},
      "source": [
        "### Data Cleaning"
      ]
    },
    {
      "cell_type": "code",
      "execution_count": 54,
      "metadata": {},
      "outputs": [],
      "source": [
        "# Removing nan values in prescribed for\n",
        "drug_data['Prescribed_for'].fillna('', inplace=True)\n",
        "drug_data = drug_data[drug_data['Prescribed_for']!='']"
      ]
    },
    {
      "cell_type": "code",
      "execution_count": 55,
      "metadata": {},
      "outputs": [
        {
          "data": {
            "text/plain": [
              "(53471, 6)"
            ]
          },
          "execution_count": 55,
          "metadata": {},
          "output_type": "execute_result"
        }
      ],
      "source": [
        "drug_data.shape"
      ]
    },
    {
      "cell_type": "code",
      "execution_count": 57,
      "metadata": {},
      "outputs": [],
      "source": [
        "# cleaning the unnecesary disease type\n",
        "patterns_to_remove = [\n",
        "    r\"^\\d+</span> users found this comment helpful\\.$\",\n",
        "    r'Not Listed',\n",
        "    r\"<[^>]+>\",\n",
        "    r'\\([^)]*\\)|\\(.*|.*\\)'\n",
        "]\n",
        "\n",
        "combined_pattern = '|'.join(patterns_to_remove)\n",
        "cleaned_df = drug_data[~drug_data['Prescribed_for'].str.contains(combined_pattern, case=False,regex=True)]\n",
        "\n"
      ]
    },
    {
      "cell_type": "code",
      "execution_count": 58,
      "metadata": {},
      "outputs": [
        {
          "data": {
            "text/plain": [
              "(52957, 6)"
            ]
          },
          "execution_count": 58,
          "metadata": {},
          "output_type": "execute_result"
        }
      ],
      "source": [
        "cleaned_df.shape"
      ]
    },
    {
      "cell_type": "code",
      "execution_count": 59,
      "metadata": {
        "id": "cUQ1wc9VmF1o"
      },
      "outputs": [],
      "source": [
        "disease_list = list(cleaned_df.Prescribed_for.unique())\n"
      ]
    },
    {
      "cell_type": "code",
      "execution_count": 60,
      "metadata": {
        "id": "AOxtlEJOVrw0"
      },
      "outputs": [],
      "source": [
        "#  only considering drugs which has medium to high rating\n",
        "filtered_df = drug_data[(drug_data['Prescribed_for'].isin(disease_list)) & (drug_data['User_Rating']>=5)]"
      ]
    },
    {
      "cell_type": "code",
      "execution_count": 61,
      "metadata": {
        "id": "mKPtgymZY1Fl"
      },
      "outputs": [],
      "source": [
        "aggregated_df = filtered_df.groupby('Prescribed_for').agg(DrugName_list=('drugName', 'unique')).reset_index(drop=False)"
      ]
    },
    {
      "cell_type": "code",
      "execution_count": 62,
      "metadata": {
        "id": "d_mkU1MHZyh1"
      },
      "outputs": [],
      "source": [
        "diseases_final = list(aggregated_df['Prescribed_for'])"
      ]
    },
    {
      "cell_type": "code",
      "execution_count": 63,
      "metadata": {},
      "outputs": [
        {
          "name": "stdout",
          "output_type": "stream",
          "text": [
            "Total Number of unique prescribed_for in the  dataset is 620\n"
          ]
        }
      ],
      "source": [
        "print(\"Total Number of unique prescribed_for in the  dataset is {}\".format(len(diseases_final)))"
      ]
    },
    {
      "cell_type": "markdown",
      "metadata": {
        "id": "rXdh-xAeTCJN"
      },
      "source": [
        "### Web scraping to retrive symptoms from wikipedia"
      ]
    },
    {
      "cell_type": "code",
      "execution_count": null,
      "metadata": {
        "id": "-hJUpBJkjUh2"
      },
      "outputs": [],
      "source": [
        "disease_with_symptoms = web_scrape_wikipedia(diseases_final)"
      ]
    },
    {
      "cell_type": "code",
      "execution_count": 64,
      "metadata": {},
      "outputs": [],
      "source": [
        "import json\n",
        "\n",
        "with open(\"../data/symptoms.json\",'r') as file:\n",
        "    disease_with_symptoms = json.load(file)"
      ]
    },
    {
      "cell_type": "code",
      "execution_count": 65,
      "metadata": {
        "colab": {
          "base_uri": "https://localhost:8080/"
        },
        "id": "_fiiFy1BJXyN",
        "outputId": "1d7a0f56-4017-47d1-ccc4-0a75a5e73bcc"
      },
      "outputs": [
        {
          "name": "stdout",
          "output_type": "stream",
          "text": [
            "Number of diseases retrived from wikipedia is 536\n"
          ]
        }
      ],
      "source": [
        "print(\"Number of diseases retrived from wikipedia is {}\".format(len(disease_with_symptoms.keys())))"
      ]
    },
    {
      "cell_type": "code",
      "execution_count": 66,
      "metadata": {
        "id": "UzQkAzDmJXyQ"
      },
      "outputs": [],
      "source": [
        "# extracting diseases that's not been retrieved from wikipedia\n",
        "\n",
        "unretrived_diseases = [key for key in diseases_final if key not in disease_with_symptoms.keys()]"
      ]
    },
    {
      "cell_type": "code",
      "execution_count": 67,
      "metadata": {
        "colab": {
          "base_uri": "https://localhost:8080/"
        },
        "id": "eNKG43ftJXyQ",
        "outputId": "0f5f5885-bd68-4a56-90fe-257e27517def"
      },
      "outputs": [
        {
          "name": "stdout",
          "output_type": "stream",
          "text": [
            "Number of diseases unretrived from wikipedia is 84\n"
          ]
        }
      ],
      "source": [
        "print(\"Number of diseases unretrived from wikipedia is {}\".format(len(unretrived_diseases)))"
      ]
    },
    {
      "cell_type": "markdown",
      "metadata": {
        "id": "yyrxiFPTJXyR"
      },
      "source": [
        "### Web scraping to retrive remaining disease's symptoms from seattlechildren's"
      ]
    },
    {
      "cell_type": "code",
      "execution_count": 68,
      "metadata": {
        "id": "0XXoRgBvJXyR"
      },
      "outputs": [],
      "source": [
        "base_url = 'https://www.seattlechildrens.org'\n",
        "\n",
        "unretrived_diseases_symptoms = web_scrape_seattle_children(base_url, unretrived_diseases)"
      ]
    },
    {
      "cell_type": "code",
      "execution_count": 69,
      "metadata": {
        "id": "WT211oalJXyS"
      },
      "outputs": [],
      "source": [
        "final_disease_symptoms = {**disease_with_symptoms, **unretrived_diseases_symptoms}"
      ]
    },
    {
      "cell_type": "code",
      "execution_count": 70,
      "metadata": {
        "colab": {
          "base_uri": "https://localhost:8080/"
        },
        "id": "CDNQwaqZJXyT",
        "outputId": "04ad22a6-313c-45e3-e014-365bd1b34701"
      },
      "outputs": [
        {
          "name": "stdout",
          "output_type": "stream",
          "text": [
            "Final number of diseases available with symptoms 537\n"
          ]
        }
      ],
      "source": [
        "print(\"Final number of diseases available with symptoms {}\".format(len(final_disease_symptoms.keys())))"
      ]
    },
    {
      "cell_type": "markdown",
      "metadata": {
        "id": "PIy6_VpbJXyV"
      },
      "source": [
        "### creating final dataframe with all the disease's, symptoms with drug list prescribed_for"
      ]
    },
    {
      "cell_type": "code",
      "execution_count": 71,
      "metadata": {
        "id": "YFK5RiERJXyV"
      },
      "outputs": [],
      "source": [
        "prescribed_for,disease, symptoms = [], [],[]\n",
        "for key, value in disease_with_symptoms.items():\n",
        "    prescribed_for.append(key)\n",
        "    disease.append(value[0])\n",
        "    symptoms.append(value[1])\n"
      ]
    },
    {
      "cell_type": "code",
      "execution_count": 72,
      "metadata": {
        "id": "eKug70lLJXyV"
      },
      "outputs": [],
      "source": [
        "symptoms_df = pd.DataFrame({'Prescribed_for': prescribed_for, 'Disease':disease, 'Symptoms': symptoms}, index=range(1, len(disease_with_symptoms) + 1))"
      ]
    },
    {
      "cell_type": "code",
      "execution_count": 73,
      "metadata": {
        "id": "E--_YVlsJXyW"
      },
      "outputs": [],
      "source": [
        "final_df = aggregated_df.merge(symptoms_df,on='Prescribed_for', how='left')"
      ]
    },
    {
      "cell_type": "markdown",
      "metadata": {
        "id": "31h0jD9xbHd2"
      },
      "source": [
        "### Inserting Length column which depicts the length of Symptoms\n"
      ]
    },
    {
      "cell_type": "code",
      "execution_count": 74,
      "metadata": {
        "colab": {
          "base_uri": "https://localhost:8080/",
          "height": 419
        },
        "id": "lKQT2_s7bF7G",
        "outputId": "02de07cf-7218-43b7-981e-3d02b4f251a6"
      },
      "outputs": [],
      "source": [
        "final_df['Symptoms'] = final_df['Symptoms'].astype(str)\n",
        "final_df['Symptoms_Length'] = final_df['Symptoms'].apply(len)"
      ]
    },
    {
      "cell_type": "markdown",
      "metadata": {},
      "source": [
        "### No of Drugs for each disease:"
      ]
    },
    {
      "cell_type": "code",
      "execution_count": 75,
      "metadata": {},
      "outputs": [],
      "source": [
        "final_df['Number_of_Drugs'] = final_df['DrugName_list'].apply(lambda x: len(x))"
      ]
    },
    {
      "cell_type": "code",
      "execution_count": 76,
      "metadata": {},
      "outputs": [],
      "source": [
        "final_df['DrugName_list'] = final_df['DrugName_list'].apply(lambda x: ','.join(x))"
      ]
    },
    {
      "cell_type": "markdown",
      "metadata": {},
      "source": [
        "### Preprocessing symptoms"
      ]
    },
    {
      "cell_type": "code",
      "execution_count": 78,
      "metadata": {},
      "outputs": [],
      "source": [
        "# Search for \"hlist\" in the Preprocessed_Symptoms column (as the symptoms was not scrapped properly)\n",
        "search_result = final_df[final_df['Symptoms'].str.contains('hlist', case=False, na=False)]\n",
        "# Defining the new list of symptoms for Glaucoma\n",
        "new_symptoms = \"intense eye pain, nausea and vomiting ,a red eye, a headache tenderness around the eyes, seeing rings around lights, blurred vision\"\n",
        "\n",
        "# Locate the row corresponding to Glaucoma disease\n",
        "glaucoma_row_index = final_df[final_df['Disease'] == 'Glaucoma'].index\n",
        "\n",
        "# Update the Symptoms column with the new list of symptoms\n",
        "final_df.loc[glaucoma_row_index, 'Symptoms'] = new_symptoms"
      ]
    },
    {
      "cell_type": "code",
      "execution_count": 80,
      "metadata": {},
      "outputs": [
        {
          "name": "stderr",
          "output_type": "stream",
          "text": [
            "[nltk_data] Downloading package punkt to\n",
            "[nltk_data]     /Users/shobanasiranjeevilu/nltk_data...\n",
            "[nltk_data]   Package punkt is already up-to-date!\n",
            "[nltk_data] Downloading package stopwords to\n",
            "[nltk_data]     /Users/shobanasiranjeevilu/nltk_data...\n",
            "[nltk_data]   Package stopwords is already up-to-date!\n",
            "[nltk_data] Downloading package wordnet to\n",
            "[nltk_data]     /Users/shobanasiranjeevilu/nltk_data...\n",
            "[nltk_data]   Package wordnet is already up-to-date!\n"
          ]
        },
        {
          "data": {
            "text/plain": [
              "True"
            ]
          },
          "execution_count": 80,
          "metadata": {},
          "output_type": "execute_result"
        }
      ],
      "source": [
        "# Initialize the WordNetLemmatizer\n",
        "lemmatizer = WordNetLemmatizer()\n",
        "nltk.download('punkt')\n",
        "nltk.download('stopwords')\n",
        "nltk.download('wordnet')"
      ]
    },
    {
      "cell_type": "code",
      "execution_count": 81,
      "metadata": {},
      "outputs": [],
      "source": [
        "def preprocess_text(text):\n",
        "    if pd.isnull(text):\n",
        "        return None\n",
        "    # Lowercase the text\n",
        "    text = text.lower()\n",
        "    # Remove punctuation\n",
        "    text = text.translate(str.maketrans('', '', string.punctuation))\n",
        "    # Tokenize the text\n",
        "    tokens = word_tokenize(text)\n",
        "    # Remove stopwords\n",
        "    stop_words = set(stopwords.words('english'))\n",
        "    tokens = [word for word in tokens if word not in stop_words]\n",
        "    # Lemmatize the words\n",
        "    tokens = [lemmatizer.lemmatize(word) for word in tokens]\n",
        "    # Join tokens back into a string\n",
        "    preprocessed_text = ' '.join(tokens)\n",
        "    return preprocessed_text\n",
        "\n",
        "# Preprocessing the symptoms\n",
        "final_df['Preprocessed_Symptoms'] = final_df['Symptoms'].apply(preprocess_text)"
      ]
    },
    {
      "cell_type": "code",
      "execution_count": 83,
      "metadata": {},
      "outputs": [],
      "source": [
        "final_df.to_csv(\"../data/data_processed.csv\",index=False)"
      ]
    },
    {
      "cell_type": "code",
      "execution_count": null,
      "metadata": {},
      "outputs": [],
      "source": []
    }
  ],
  "metadata": {
    "colab": {
      "provenance": []
    },
    "kernelspec": {
      "display_name": "Python 3",
      "name": "python3"
    },
    "language_info": {
      "codemirror_mode": {
        "name": "ipython",
        "version": 3
      },
      "file_extension": ".py",
      "mimetype": "text/x-python",
      "name": "python",
      "nbconvert_exporter": "python",
      "pygments_lexer": "ipython3",
      "version": "3.12.3"
    }
  },
  "nbformat": 4,
  "nbformat_minor": 0
}
